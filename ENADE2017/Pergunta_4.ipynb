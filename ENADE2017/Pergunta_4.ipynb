{
 "cells": [
  {
   "cell_type": "code",
   "execution_count": 2,
   "metadata": {},
   "outputs": [],
   "source": [
    "import numpy as np\n",
    "import pandas as pd"
   ]
  },
  {
   "cell_type": "code",
   "execution_count": 3,
   "metadata": {},
   "outputs": [],
   "source": [
    "# Substituir o separador decimal ',' por '.' \n",
    "f = lambda x : (x.replace(',', '.'))\n",
    "# Carregando os microdados do enade 2017\n",
    "enade = pd.read_csv(\n",
    "    'dados/microdados_ENADE_2017.csv.zip', # caminho do arquivo\n",
    "    compression='zip',                     # tipo de compressão do arquivo\n",
    "    sep=';',                               # separador de colunas  \n",
    "    na_values=['.', '*'],                  # substituir as strings '.' e '*' por NA (ver dicionário de dados)\n",
    "    converters={'NT_GER':f,                # substituir o separador decimal por '.'\n",
    "                'NT_FG':f, \n",
    "                'NT_OBJ_FG':f, \n",
    "                'NT_DIS_FG':f, \n",
    "                'NT_CE':f, \n",
    "                'NT_OBJ_CE':f, \n",
    "                'NT_DIS_CE':f\n",
    "               },\n",
    "    encoding= 'UTF-8',                     # definir a codificação\n",
    "    dtype={'DS_VT_ESC_OFG': 'str',         # converter colunas com valores mistos (str, num) para str\n",
    "           'DS_VT_ESC_OCE': 'str',         \n",
    "           'DS_VT_ACE_OCE': 'str'           \n",
    "          }\n",
    ")\n",
    "# Convertendo as coluna das notas de object para numeric\n",
    "cols_convert = ['NT_GER', 'NT_FG', 'NT_OBJ_FG', 'NT_DIS_FG', 'NT_CE', 'NT_OBJ_CE', 'NT_DIS_CE']\n",
    "enade[cols_convert] = enade[cols_convert].apply(pd.to_numeric, errors='coerce', axis=1)"
   ]
  },
  {
   "cell_type": "code",
   "execution_count": 4,
   "metadata": {},
   "outputs": [
    {
     "data": {
      "text/html": [
       "<div>\n",
       "<style scoped>\n",
       "    .dataframe tbody tr th:only-of-type {\n",
       "        vertical-align: middle;\n",
       "    }\n",
       "\n",
       "    .dataframe tbody tr th {\n",
       "        vertical-align: top;\n",
       "    }\n",
       "\n",
       "    .dataframe thead th {\n",
       "        text-align: right;\n",
       "    }\n",
       "</style>\n",
       "<table border=\"1\" class=\"dataframe\">\n",
       "  <thead>\n",
       "    <tr style=\"text-align: right;\">\n",
       "      <th></th>\n",
       "      <th>NU_ANO</th>\n",
       "      <th>CO_IES</th>\n",
       "      <th>CO_CATEGAD</th>\n",
       "      <th>CO_ORGACAD</th>\n",
       "      <th>CO_GRUPO</th>\n",
       "      <th>CO_CURSO</th>\n",
       "      <th>CO_MODALIDADE</th>\n",
       "      <th>CO_MUNIC_CURSO</th>\n",
       "      <th>CO_UF_CURSO</th>\n",
       "      <th>CO_REGIAO_CURSO</th>\n",
       "      <th>...</th>\n",
       "      <th>QE_I72</th>\n",
       "      <th>QE_I73</th>\n",
       "      <th>QE_I74</th>\n",
       "      <th>QE_I75</th>\n",
       "      <th>QE_I76</th>\n",
       "      <th>QE_I77</th>\n",
       "      <th>QE_I78</th>\n",
       "      <th>QE_I79</th>\n",
       "      <th>QE_I80</th>\n",
       "      <th>QE_I81</th>\n",
       "    </tr>\n",
       "  </thead>\n",
       "  <tbody>\n",
       "    <tr>\n",
       "      <th>0</th>\n",
       "      <td>2017</td>\n",
       "      <td>1</td>\n",
       "      <td>1</td>\n",
       "      <td>10028</td>\n",
       "      <td>5710</td>\n",
       "      <td>3</td>\n",
       "      <td>1</td>\n",
       "      <td>5103403</td>\n",
       "      <td>51</td>\n",
       "      <td>5</td>\n",
       "      <td>...</td>\n",
       "      <td>NaN</td>\n",
       "      <td>NaN</td>\n",
       "      <td>NaN</td>\n",
       "      <td>NaN</td>\n",
       "      <td>NaN</td>\n",
       "      <td>NaN</td>\n",
       "      <td>NaN</td>\n",
       "      <td>NaN</td>\n",
       "      <td>NaN</td>\n",
       "      <td>NaN</td>\n",
       "    </tr>\n",
       "    <tr>\n",
       "      <th>1</th>\n",
       "      <td>2017</td>\n",
       "      <td>1</td>\n",
       "      <td>1</td>\n",
       "      <td>10028</td>\n",
       "      <td>5710</td>\n",
       "      <td>3</td>\n",
       "      <td>1</td>\n",
       "      <td>5103403</td>\n",
       "      <td>51</td>\n",
       "      <td>5</td>\n",
       "      <td>...</td>\n",
       "      <td>NaN</td>\n",
       "      <td>NaN</td>\n",
       "      <td>NaN</td>\n",
       "      <td>NaN</td>\n",
       "      <td>NaN</td>\n",
       "      <td>NaN</td>\n",
       "      <td>NaN</td>\n",
       "      <td>NaN</td>\n",
       "      <td>NaN</td>\n",
       "      <td>NaN</td>\n",
       "    </tr>\n",
       "    <tr>\n",
       "      <th>2</th>\n",
       "      <td>2017</td>\n",
       "      <td>1</td>\n",
       "      <td>1</td>\n",
       "      <td>10028</td>\n",
       "      <td>5710</td>\n",
       "      <td>3</td>\n",
       "      <td>1</td>\n",
       "      <td>5103403</td>\n",
       "      <td>51</td>\n",
       "      <td>5</td>\n",
       "      <td>...</td>\n",
       "      <td>NaN</td>\n",
       "      <td>NaN</td>\n",
       "      <td>NaN</td>\n",
       "      <td>NaN</td>\n",
       "      <td>NaN</td>\n",
       "      <td>NaN</td>\n",
       "      <td>NaN</td>\n",
       "      <td>NaN</td>\n",
       "      <td>NaN</td>\n",
       "      <td>NaN</td>\n",
       "    </tr>\n",
       "    <tr>\n",
       "      <th>3</th>\n",
       "      <td>2017</td>\n",
       "      <td>1</td>\n",
       "      <td>1</td>\n",
       "      <td>10028</td>\n",
       "      <td>5710</td>\n",
       "      <td>3</td>\n",
       "      <td>1</td>\n",
       "      <td>5103403</td>\n",
       "      <td>51</td>\n",
       "      <td>5</td>\n",
       "      <td>...</td>\n",
       "      <td>NaN</td>\n",
       "      <td>NaN</td>\n",
       "      <td>NaN</td>\n",
       "      <td>NaN</td>\n",
       "      <td>NaN</td>\n",
       "      <td>NaN</td>\n",
       "      <td>NaN</td>\n",
       "      <td>NaN</td>\n",
       "      <td>NaN</td>\n",
       "      <td>NaN</td>\n",
       "    </tr>\n",
       "    <tr>\n",
       "      <th>4</th>\n",
       "      <td>2017</td>\n",
       "      <td>1</td>\n",
       "      <td>1</td>\n",
       "      <td>10028</td>\n",
       "      <td>5710</td>\n",
       "      <td>3</td>\n",
       "      <td>1</td>\n",
       "      <td>5103403</td>\n",
       "      <td>51</td>\n",
       "      <td>5</td>\n",
       "      <td>...</td>\n",
       "      <td>NaN</td>\n",
       "      <td>NaN</td>\n",
       "      <td>NaN</td>\n",
       "      <td>NaN</td>\n",
       "      <td>NaN</td>\n",
       "      <td>NaN</td>\n",
       "      <td>NaN</td>\n",
       "      <td>NaN</td>\n",
       "      <td>NaN</td>\n",
       "      <td>NaN</td>\n",
       "    </tr>\n",
       "  </tbody>\n",
       "</table>\n",
       "<p>5 rows × 150 columns</p>\n",
       "</div>"
      ],
      "text/plain": [
       "   NU_ANO  CO_IES  CO_CATEGAD  CO_ORGACAD  CO_GRUPO  CO_CURSO  CO_MODALIDADE  \\\n",
       "0    2017       1           1       10028      5710         3              1   \n",
       "1    2017       1           1       10028      5710         3              1   \n",
       "2    2017       1           1       10028      5710         3              1   \n",
       "3    2017       1           1       10028      5710         3              1   \n",
       "4    2017       1           1       10028      5710         3              1   \n",
       "\n",
       "   CO_MUNIC_CURSO  CO_UF_CURSO  CO_REGIAO_CURSO  ...  QE_I72 QE_I73  QE_I74  \\\n",
       "0         5103403           51                5  ...     NaN    NaN     NaN   \n",
       "1         5103403           51                5  ...     NaN    NaN     NaN   \n",
       "2         5103403           51                5  ...     NaN    NaN     NaN   \n",
       "3         5103403           51                5  ...     NaN    NaN     NaN   \n",
       "4         5103403           51                5  ...     NaN    NaN     NaN   \n",
       "\n",
       "   QE_I75  QE_I76  QE_I77  QE_I78  QE_I79  QE_I80  QE_I81  \n",
       "0     NaN     NaN     NaN     NaN     NaN     NaN     NaN  \n",
       "1     NaN     NaN     NaN     NaN     NaN     NaN     NaN  \n",
       "2     NaN     NaN     NaN     NaN     NaN     NaN     NaN  \n",
       "3     NaN     NaN     NaN     NaN     NaN     NaN     NaN  \n",
       "4     NaN     NaN     NaN     NaN     NaN     NaN     NaN  \n",
       "\n",
       "[5 rows x 150 columns]"
      ]
     },
     "execution_count": 4,
     "metadata": {},
     "output_type": "execute_result"
    }
   ],
   "source": [
    "# Exibindo o dataframe\n",
    "enade.head()"
   ]
  },
  {
   "cell_type": "code",
   "execution_count": 5,
   "metadata": {},
   "outputs": [
    {
     "data": {
      "text/plain": [
       "(537436, 150)"
      ]
     },
     "execution_count": 5,
     "metadata": {},
     "output_type": "execute_result"
    }
   ],
   "source": [
    "enade.shape"
   ]
  },
  {
   "cell_type": "code",
   "execution_count": 6,
   "metadata": {},
   "outputs": [
    {
     "data": {
      "text/html": [
       "<div>\n",
       "<style scoped>\n",
       "    .dataframe tbody tr th:only-of-type {\n",
       "        vertical-align: middle;\n",
       "    }\n",
       "\n",
       "    .dataframe tbody tr th {\n",
       "        vertical-align: top;\n",
       "    }\n",
       "\n",
       "    .dataframe thead th {\n",
       "        text-align: right;\n",
       "    }\n",
       "</style>\n",
       "<table border=\"1\" class=\"dataframe\">\n",
       "  <thead>\n",
       "    <tr style=\"text-align: right;\">\n",
       "      <th></th>\n",
       "      <th>Ano</th>\n",
       "      <th>Código da Área</th>\n",
       "      <th>Área de Avaliação</th>\n",
       "      <th>Código da IES</th>\n",
       "      <th>Nome da IES</th>\n",
       "      <th>Sigla da IES</th>\n",
       "      <th>Organização Acadêmica</th>\n",
       "      <th>Categoria Administrativa</th>\n",
       "      <th>Código do Curso</th>\n",
       "      <th>Modalidade de Ensino</th>\n",
       "      <th>...</th>\n",
       "      <th>Sigla da UF</th>\n",
       "      <th>Nº de Concluintes Inscritos</th>\n",
       "      <th>Nº  de Concluintes Participantes</th>\n",
       "      <th>Nota Bruta - FG</th>\n",
       "      <th>Nota Padronizada - FG</th>\n",
       "      <th>Nota Bruta - CE</th>\n",
       "      <th>Nota Padronizada - CE</th>\n",
       "      <th>Conceito Enade (Contínuo)</th>\n",
       "      <th>Conceito Enade (Faixa)</th>\n",
       "      <th>Observação</th>\n",
       "    </tr>\n",
       "  </thead>\n",
       "  <tbody>\n",
       "    <tr>\n",
       "      <th>0</th>\n",
       "      <td>2017</td>\n",
       "      <td>21</td>\n",
       "      <td>ARQUITETURA E URBANISMO</td>\n",
       "      <td>1</td>\n",
       "      <td>UNIVERSIDADE FEDERAL DE MATO GROSSO</td>\n",
       "      <td>UFMT</td>\n",
       "      <td>Universidade</td>\n",
       "      <td>Pública Federal</td>\n",
       "      <td>44</td>\n",
       "      <td>Educação Presencial</td>\n",
       "      <td>...</td>\n",
       "      <td>MT</td>\n",
       "      <td>44</td>\n",
       "      <td>43</td>\n",
       "      <td>59,4977</td>\n",
       "      <td>3,1401</td>\n",
       "      <td>62,9744</td>\n",
       "      <td>4,4030</td>\n",
       "      <td>4,0873</td>\n",
       "      <td>5</td>\n",
       "      <td>NaN</td>\n",
       "    </tr>\n",
       "    <tr>\n",
       "      <th>1</th>\n",
       "      <td>2017</td>\n",
       "      <td>21</td>\n",
       "      <td>ARQUITETURA E URBANISMO</td>\n",
       "      <td>2</td>\n",
       "      <td>UNIVERSIDADE DE BRASÍLIA</td>\n",
       "      <td>UNB</td>\n",
       "      <td>Universidade</td>\n",
       "      <td>Pública Federal</td>\n",
       "      <td>132</td>\n",
       "      <td>Educação Presencial</td>\n",
       "      <td>...</td>\n",
       "      <td>DF</td>\n",
       "      <td>141</td>\n",
       "      <td>128</td>\n",
       "      <td>61,3602</td>\n",
       "      <td>3,4161</td>\n",
       "      <td>60,7516</td>\n",
       "      <td>4,1266</td>\n",
       "      <td>3,9490</td>\n",
       "      <td>5</td>\n",
       "      <td>NaN</td>\n",
       "    </tr>\n",
       "    <tr>\n",
       "      <th>2</th>\n",
       "      <td>2017</td>\n",
       "      <td>21</td>\n",
       "      <td>ARQUITETURA E URBANISMO</td>\n",
       "      <td>2</td>\n",
       "      <td>UNIVERSIDADE DE BRASÍLIA</td>\n",
       "      <td>UNB</td>\n",
       "      <td>Universidade</td>\n",
       "      <td>Pública Federal</td>\n",
       "      <td>1138293</td>\n",
       "      <td>Educação Presencial</td>\n",
       "      <td>...</td>\n",
       "      <td>DF</td>\n",
       "      <td>123</td>\n",
       "      <td>110</td>\n",
       "      <td>58,3155</td>\n",
       "      <td>2,9649</td>\n",
       "      <td>55,6845</td>\n",
       "      <td>3,4965</td>\n",
       "      <td>3,3636</td>\n",
       "      <td>4</td>\n",
       "      <td>NaN</td>\n",
       "    </tr>\n",
       "    <tr>\n",
       "      <th>3</th>\n",
       "      <td>2017</td>\n",
       "      <td>21</td>\n",
       "      <td>ARQUITETURA E URBANISMO</td>\n",
       "      <td>3</td>\n",
       "      <td>UNIVERSIDADE FEDERAL DE SERGIPE</td>\n",
       "      <td>UFS</td>\n",
       "      <td>Universidade</td>\n",
       "      <td>Pública Federal</td>\n",
       "      <td>99444</td>\n",
       "      <td>Educação Presencial</td>\n",
       "      <td>...</td>\n",
       "      <td>SE</td>\n",
       "      <td>42</td>\n",
       "      <td>31</td>\n",
       "      <td>62,2290</td>\n",
       "      <td>3,5448</td>\n",
       "      <td>57,5161</td>\n",
       "      <td>3,7243</td>\n",
       "      <td>3,6794</td>\n",
       "      <td>4</td>\n",
       "      <td>NaN</td>\n",
       "    </tr>\n",
       "    <tr>\n",
       "      <th>4</th>\n",
       "      <td>2017</td>\n",
       "      <td>21</td>\n",
       "      <td>ARQUITETURA E URBANISMO</td>\n",
       "      <td>4</td>\n",
       "      <td>UNIVERSIDADE FEDERAL DO AMAZONAS</td>\n",
       "      <td>UFAM</td>\n",
       "      <td>Universidade</td>\n",
       "      <td>Pública Federal</td>\n",
       "      <td>122640</td>\n",
       "      <td>Educação Presencial</td>\n",
       "      <td>...</td>\n",
       "      <td>AM</td>\n",
       "      <td>64</td>\n",
       "      <td>50</td>\n",
       "      <td>60,3600</td>\n",
       "      <td>3,2679</td>\n",
       "      <td>54,7100</td>\n",
       "      <td>3,3753</td>\n",
       "      <td>3,3485</td>\n",
       "      <td>4</td>\n",
       "      <td>NaN</td>\n",
       "    </tr>\n",
       "  </tbody>\n",
       "</table>\n",
       "<p>5 rows × 22 columns</p>\n",
       "</div>"
      ],
      "text/plain": [
       "    Ano  Código da Área        Área de Avaliação  Código da IES  \\\n",
       "0  2017              21  ARQUITETURA E URBANISMO              1   \n",
       "1  2017              21  ARQUITETURA E URBANISMO              2   \n",
       "2  2017              21  ARQUITETURA E URBANISMO              2   \n",
       "3  2017              21  ARQUITETURA E URBANISMO              3   \n",
       "4  2017              21  ARQUITETURA E URBANISMO              4   \n",
       "\n",
       "                           Nome da IES Sigla da IES Organização Acadêmica  \\\n",
       "0  UNIVERSIDADE FEDERAL DE MATO GROSSO         UFMT          Universidade   \n",
       "1             UNIVERSIDADE DE BRASÍLIA          UNB          Universidade   \n",
       "2             UNIVERSIDADE DE BRASÍLIA          UNB          Universidade   \n",
       "3      UNIVERSIDADE FEDERAL DE SERGIPE          UFS          Universidade   \n",
       "4     UNIVERSIDADE FEDERAL DO AMAZONAS         UFAM          Universidade   \n",
       "\n",
       "  Categoria Administrativa  Código do Curso Modalidade de Ensino  ...  \\\n",
       "0          Pública Federal               44  Educação Presencial  ...   \n",
       "1          Pública Federal              132  Educação Presencial  ...   \n",
       "2          Pública Federal          1138293  Educação Presencial  ...   \n",
       "3          Pública Federal            99444  Educação Presencial  ...   \n",
       "4          Pública Federal           122640  Educação Presencial  ...   \n",
       "\n",
       "   Sigla da UF Nº de Concluintes Inscritos Nº  de Concluintes Participantes  \\\n",
       "0           MT                          44                               43   \n",
       "1           DF                         141                              128   \n",
       "2           DF                         123                              110   \n",
       "3           SE                          42                               31   \n",
       "4           AM                          64                               50   \n",
       "\n",
       "   Nota Bruta - FG  Nota Padronizada - FG Nota Bruta - CE  \\\n",
       "0          59,4977                 3,1401         62,9744   \n",
       "1          61,3602                 3,4161         60,7516   \n",
       "2          58,3155                 2,9649         55,6845   \n",
       "3          62,2290                 3,5448         57,5161   \n",
       "4          60,3600                 3,2679         54,7100   \n",
       "\n",
       "  Nota Padronizada - CE Conceito Enade (Contínuo) Conceito Enade (Faixa)  \\\n",
       "0                4,4030                    4,0873                      5   \n",
       "1                4,1266                    3,9490                      5   \n",
       "2                3,4965                    3,3636                      4   \n",
       "3                3,7243                    3,6794                      4   \n",
       "4                3,3753                    3,3485                      4   \n",
       "\n",
       "  Observação  \n",
       "0        NaN  \n",
       "1        NaN  \n",
       "2        NaN  \n",
       "3        NaN  \n",
       "4        NaN  \n",
       "\n",
       "[5 rows x 22 columns]"
      ]
     },
     "execution_count": 6,
     "metadata": {},
     "output_type": "execute_result"
    }
   ],
   "source": [
    "conceitos_enade = pd.read_csv('dados/resultados_conceito_enade_2017.csv')\n",
    " \n",
    "conceitos_enade.head()"
   ]
  },
  {
   "cell_type": "code",
   "execution_count": 7,
   "metadata": {},
   "outputs": [
    {
     "data": {
      "text/html": [
       "<div>\n",
       "<style scoped>\n",
       "    .dataframe tbody tr th:only-of-type {\n",
       "        vertical-align: middle;\n",
       "    }\n",
       "\n",
       "    .dataframe tbody tr th {\n",
       "        vertical-align: top;\n",
       "    }\n",
       "\n",
       "    .dataframe thead th {\n",
       "        text-align: right;\n",
       "    }\n",
       "</style>\n",
       "<table border=\"1\" class=\"dataframe\">\n",
       "  <thead>\n",
       "    <tr style=\"text-align: right;\">\n",
       "      <th></th>\n",
       "      <th>index</th>\n",
       "      <th>Ano</th>\n",
       "      <th>Código da Área</th>\n",
       "      <th>Área de Avaliação</th>\n",
       "      <th>Código da IES</th>\n",
       "      <th>Nome da IES</th>\n",
       "      <th>Sigla da IES</th>\n",
       "      <th>Organização Acadêmica</th>\n",
       "      <th>Categoria Administrativa</th>\n",
       "      <th>Código do Curso</th>\n",
       "      <th>...</th>\n",
       "      <th>Sigla da UF</th>\n",
       "      <th>Nº de Concluintes Inscritos</th>\n",
       "      <th>Nº  de Concluintes Participantes</th>\n",
       "      <th>Nota Bruta - FG</th>\n",
       "      <th>Nota Padronizada - FG</th>\n",
       "      <th>Nota Bruta - CE</th>\n",
       "      <th>Nota Padronizada - CE</th>\n",
       "      <th>Conceito Enade (Contínuo)</th>\n",
       "      <th>Conceito Enade (Faixa)</th>\n",
       "      <th>Observação</th>\n",
       "    </tr>\n",
       "  </thead>\n",
       "  <tbody>\n",
       "    <tr>\n",
       "      <th>0</th>\n",
       "      <td>150</td>\n",
       "      <td>2017</td>\n",
       "      <td>21</td>\n",
       "      <td>ARQUITETURA E URBANISMO</td>\n",
       "      <td>568</td>\n",
       "      <td>UNIVERSIDADE ESTADUAL DO MARANHÃO</td>\n",
       "      <td>UEMA</td>\n",
       "      <td>Universidade</td>\n",
       "      <td>Pública Estadual</td>\n",
       "      <td>11891</td>\n",
       "      <td>...</td>\n",
       "      <td>MA</td>\n",
       "      <td>107</td>\n",
       "      <td>106</td>\n",
       "      <td>59,4226</td>\n",
       "      <td>3,1290</td>\n",
       "      <td>56,1264</td>\n",
       "      <td>3,5515</td>\n",
       "      <td>3,4458</td>\n",
       "      <td>4</td>\n",
       "      <td>NaN</td>\n",
       "    </tr>\n",
       "    <tr>\n",
       "      <th>1</th>\n",
       "      <td>194</td>\n",
       "      <td>2017</td>\n",
       "      <td>21</td>\n",
       "      <td>ARQUITETURA E URBANISMO</td>\n",
       "      <td>823</td>\n",
       "      <td>UNIVERSIDADE DO CEUMA - UNICEUMA</td>\n",
       "      <td>UNICEUMA</td>\n",
       "      <td>Universidade</td>\n",
       "      <td>Privada sem fins lucrativos</td>\n",
       "      <td>55336</td>\n",
       "      <td>...</td>\n",
       "      <td>MA</td>\n",
       "      <td>121</td>\n",
       "      <td>99</td>\n",
       "      <td>47,9061</td>\n",
       "      <td>1,4225</td>\n",
       "      <td>38,2333</td>\n",
       "      <td>1,3264</td>\n",
       "      <td>1,3505</td>\n",
       "      <td>2</td>\n",
       "      <td>NaN</td>\n",
       "    </tr>\n",
       "    <tr>\n",
       "      <th>2</th>\n",
       "      <td>257</td>\n",
       "      <td>2017</td>\n",
       "      <td>21</td>\n",
       "      <td>ARQUITETURA E URBANISMO</td>\n",
       "      <td>1885</td>\n",
       "      <td>UNIDADE DE ENSINO SUPERIOR DOM BOSCO</td>\n",
       "      <td>UNDB</td>\n",
       "      <td>Faculdade</td>\n",
       "      <td>Privada com fins lucrativos</td>\n",
       "      <td>1154789</td>\n",
       "      <td>...</td>\n",
       "      <td>MA</td>\n",
       "      <td>36</td>\n",
       "      <td>36</td>\n",
       "      <td>62,9139</td>\n",
       "      <td>3,6463</td>\n",
       "      <td>49,4222</td>\n",
       "      <td>2,7178</td>\n",
       "      <td>2,9499</td>\n",
       "      <td>4</td>\n",
       "      <td>NaN</td>\n",
       "    </tr>\n",
       "    <tr>\n",
       "      <th>3</th>\n",
       "      <td>574</td>\n",
       "      <td>2017</td>\n",
       "      <td>72</td>\n",
       "      <td>TECNOLOGIA EM ANÁLISE E DESENVOLVIMENTO DE SIS...</td>\n",
       "      <td>2189</td>\n",
       "      <td>FACULDADE DO MARANHÃO</td>\n",
       "      <td>FACAM-MA</td>\n",
       "      <td>Faculdade</td>\n",
       "      <td>Privada com fins lucrativos</td>\n",
       "      <td>1258369</td>\n",
       "      <td>...</td>\n",
       "      <td>MA</td>\n",
       "      <td>15</td>\n",
       "      <td>11</td>\n",
       "      <td>50,0273</td>\n",
       "      <td>3,1397</td>\n",
       "      <td>30,3909</td>\n",
       "      <td>1,4096</td>\n",
       "      <td>1,8421</td>\n",
       "      <td>2</td>\n",
       "      <td>NaN</td>\n",
       "    </tr>\n",
       "    <tr>\n",
       "      <th>4</th>\n",
       "      <td>645</td>\n",
       "      <td>2017</td>\n",
       "      <td>72</td>\n",
       "      <td>TECNOLOGIA EM ANÁLISE E DESENVOLVIMENTO DE SIS...</td>\n",
       "      <td>4964</td>\n",
       "      <td>FACULDADE DE CIÊNCIAS E TECNOLOGIA DO MARANHÃO</td>\n",
       "      <td>FACEMA</td>\n",
       "      <td>Faculdade</td>\n",
       "      <td>Privada com fins lucrativos</td>\n",
       "      <td>1106470</td>\n",
       "      <td>...</td>\n",
       "      <td>MA</td>\n",
       "      <td>35</td>\n",
       "      <td>27</td>\n",
       "      <td>47,6259</td>\n",
       "      <td>2,8345</td>\n",
       "      <td>34,8148</td>\n",
       "      <td>1,9460</td>\n",
       "      <td>2,1681</td>\n",
       "      <td>3</td>\n",
       "      <td>NaN</td>\n",
       "    </tr>\n",
       "  </tbody>\n",
       "</table>\n",
       "<p>5 rows × 23 columns</p>\n",
       "</div>"
      ],
      "text/plain": [
       "   index   Ano  Código da Área  \\\n",
       "0    150  2017              21   \n",
       "1    194  2017              21   \n",
       "2    257  2017              21   \n",
       "3    574  2017              72   \n",
       "4    645  2017              72   \n",
       "\n",
       "                                   Área de Avaliação  Código da IES  \\\n",
       "0                            ARQUITETURA E URBANISMO            568   \n",
       "1                            ARQUITETURA E URBANISMO            823   \n",
       "2                            ARQUITETURA E URBANISMO           1885   \n",
       "3  TECNOLOGIA EM ANÁLISE E DESENVOLVIMENTO DE SIS...           2189   \n",
       "4  TECNOLOGIA EM ANÁLISE E DESENVOLVIMENTO DE SIS...           4964   \n",
       "\n",
       "                                      Nome da IES Sigla da IES  \\\n",
       "0               UNIVERSIDADE ESTADUAL DO MARANHÃO         UEMA   \n",
       "1                UNIVERSIDADE DO CEUMA - UNICEUMA     UNICEUMA   \n",
       "2            UNIDADE DE ENSINO SUPERIOR DOM BOSCO         UNDB   \n",
       "3                           FACULDADE DO MARANHÃO     FACAM-MA   \n",
       "4  FACULDADE DE CIÊNCIAS E TECNOLOGIA DO MARANHÃO       FACEMA   \n",
       "\n",
       "  Organização Acadêmica     Categoria Administrativa  Código do Curso  ...  \\\n",
       "0          Universidade             Pública Estadual            11891  ...   \n",
       "1          Universidade  Privada sem fins lucrativos            55336  ...   \n",
       "2             Faculdade  Privada com fins lucrativos          1154789  ...   \n",
       "3             Faculdade  Privada com fins lucrativos          1258369  ...   \n",
       "4             Faculdade  Privada com fins lucrativos          1106470  ...   \n",
       "\n",
       "  Sigla da UF  Nº de Concluintes Inscritos Nº  de Concluintes Participantes  \\\n",
       "0          MA                          107                              106   \n",
       "1          MA                          121                               99   \n",
       "2          MA                           36                               36   \n",
       "3          MA                           15                               11   \n",
       "4          MA                           35                               27   \n",
       "\n",
       "  Nota Bruta - FG  Nota Padronizada - FG  Nota Bruta - CE  \\\n",
       "0         59,4226                 3,1290          56,1264   \n",
       "1         47,9061                 1,4225          38,2333   \n",
       "2         62,9139                 3,6463          49,4222   \n",
       "3         50,0273                 3,1397          30,3909   \n",
       "4         47,6259                 2,8345          34,8148   \n",
       "\n",
       "  Nota Padronizada - CE Conceito Enade (Contínuo) Conceito Enade (Faixa)  \\\n",
       "0                3,5515                    3,4458                      4   \n",
       "1                1,3264                    1,3505                      2   \n",
       "2                2,7178                    2,9499                      4   \n",
       "3                1,4096                    1,8421                      2   \n",
       "4                1,9460                    2,1681                      3   \n",
       "\n",
       "  Observação  \n",
       "0        NaN  \n",
       "1        NaN  \n",
       "2        NaN  \n",
       "3        NaN  \n",
       "4        NaN  \n",
       "\n",
       "[5 rows x 23 columns]"
      ]
     },
     "execution_count": 7,
     "metadata": {},
     "output_type": "execute_result"
    }
   ],
   "source": [
    "# Separando apenas as respostas dos alunos das IES do nordeste\n",
    "uf_nordeste = ['MA', 'PI', 'CE', 'RN', 'PB', 'PE', 'AL', 'SE', 'BA']\n",
    "enade_nordeste = pd.DataFrame()\n",
    " \n",
    "for uf in uf_nordeste:\n",
    "    temp = conceitos_enade[conceitos_enade['Sigla da UF'] == uf]\n",
    "    enade_nordeste = pd.concat([enade_nordeste, temp])\n",
    "   \n",
    "enade_nordeste =  enade_nordeste.reset_index()\n",
    " \n",
    "enade_nordeste.head()"
   ]
  },
  {
   "cell_type": "code",
   "execution_count": 8,
   "metadata": {},
   "outputs": [
    {
     "data": {
      "text/plain": [
       "(1997, 23)"
      ]
     },
     "execution_count": 8,
     "metadata": {},
     "output_type": "execute_result"
    }
   ],
   "source": [
    "enade_nordeste.shape"
   ]
  },
  {
   "cell_type": "code",
   "execution_count": 9,
   "metadata": {},
   "outputs": [
    {
     "data": {
      "text/html": [
       "<div>\n",
       "<style scoped>\n",
       "    .dataframe tbody tr th:only-of-type {\n",
       "        vertical-align: middle;\n",
       "    }\n",
       "\n",
       "    .dataframe tbody tr th {\n",
       "        vertical-align: top;\n",
       "    }\n",
       "\n",
       "    .dataframe thead th {\n",
       "        text-align: right;\n",
       "    }\n",
       "</style>\n",
       "<table border=\"1\" class=\"dataframe\">\n",
       "  <thead>\n",
       "    <tr style=\"text-align: right;\">\n",
       "      <th></th>\n",
       "      <th>index</th>\n",
       "      <th>Ano</th>\n",
       "      <th>Código da Área</th>\n",
       "      <th>Área de Avaliação</th>\n",
       "      <th>Código da IES</th>\n",
       "      <th>Nome da IES</th>\n",
       "      <th>Sigla da IES</th>\n",
       "      <th>Organização Acadêmica</th>\n",
       "      <th>Categoria Administrativa</th>\n",
       "      <th>Código do Curso</th>\n",
       "      <th>...</th>\n",
       "      <th>Sigla da UF</th>\n",
       "      <th>Nº de Concluintes Inscritos</th>\n",
       "      <th>Nº  de Concluintes Participantes</th>\n",
       "      <th>Nota Bruta - FG</th>\n",
       "      <th>Nota Padronizada - FG</th>\n",
       "      <th>Nota Bruta - CE</th>\n",
       "      <th>Nota Padronizada - CE</th>\n",
       "      <th>Conceito Enade (Contínuo)</th>\n",
       "      <th>Conceito Enade (Faixa)</th>\n",
       "      <th>Observação</th>\n",
       "    </tr>\n",
       "  </thead>\n",
       "  <tbody>\n",
       "    <tr>\n",
       "      <th>0</th>\n",
       "      <td>150</td>\n",
       "      <td>2017</td>\n",
       "      <td>21</td>\n",
       "      <td>ARQUITETURA E URBANISMO</td>\n",
       "      <td>568</td>\n",
       "      <td>UNIVERSIDADE ESTADUAL DO MARANHÃO</td>\n",
       "      <td>UEMA</td>\n",
       "      <td>Universidade</td>\n",
       "      <td>Pública Estadual</td>\n",
       "      <td>11891</td>\n",
       "      <td>...</td>\n",
       "      <td>MA</td>\n",
       "      <td>107</td>\n",
       "      <td>106</td>\n",
       "      <td>59,4226</td>\n",
       "      <td>3,1290</td>\n",
       "      <td>56,1264</td>\n",
       "      <td>3,5515</td>\n",
       "      <td>3,4458</td>\n",
       "      <td>4</td>\n",
       "      <td>NaN</td>\n",
       "    </tr>\n",
       "    <tr>\n",
       "      <th>7</th>\n",
       "      <td>963</td>\n",
       "      <td>2017</td>\n",
       "      <td>701</td>\n",
       "      <td>MATEMÁTICA (BACHARELADO)</td>\n",
       "      <td>548</td>\n",
       "      <td>UNIVERSIDADE FEDERAL DO MARANHÃO</td>\n",
       "      <td>UFMA</td>\n",
       "      <td>Universidade</td>\n",
       "      <td>Pública Federal</td>\n",
       "      <td>311439</td>\n",
       "      <td>...</td>\n",
       "      <td>MA</td>\n",
       "      <td>2</td>\n",
       "      <td>2</td>\n",
       "      <td>43,5500</td>\n",
       "      <td>1,5049</td>\n",
       "      <td>44,1500</td>\n",
       "      <td>1,8033</td>\n",
       "      <td>1,7287</td>\n",
       "      <td>2</td>\n",
       "      <td>NaN</td>\n",
       "    </tr>\n",
       "    <tr>\n",
       "      <th>8</th>\n",
       "      <td>1140</td>\n",
       "      <td>2017</td>\n",
       "      <td>702</td>\n",
       "      <td>MATEMÁTICA (LICENCIATURA)</td>\n",
       "      <td>548</td>\n",
       "      <td>UNIVERSIDADE FEDERAL DO MARANHÃO</td>\n",
       "      <td>UFMA</td>\n",
       "      <td>Universidade</td>\n",
       "      <td>Pública Federal</td>\n",
       "      <td>11439</td>\n",
       "      <td>...</td>\n",
       "      <td>MA</td>\n",
       "      <td>12</td>\n",
       "      <td>12</td>\n",
       "      <td>50,8500</td>\n",
       "      <td>2,6409</td>\n",
       "      <td>35,1750</td>\n",
       "      <td>1,8997</td>\n",
       "      <td>2,0850</td>\n",
       "      <td>3</td>\n",
       "      <td>NaN</td>\n",
       "    </tr>\n",
       "    <tr>\n",
       "      <th>9</th>\n",
       "      <td>1144</td>\n",
       "      <td>2017</td>\n",
       "      <td>702</td>\n",
       "      <td>MATEMÁTICA (LICENCIATURA)</td>\n",
       "      <td>568</td>\n",
       "      <td>UNIVERSIDADE ESTADUAL DO MARANHÃO</td>\n",
       "      <td>UEMA</td>\n",
       "      <td>Universidade</td>\n",
       "      <td>Pública Estadual</td>\n",
       "      <td>81423</td>\n",
       "      <td>...</td>\n",
       "      <td>MA</td>\n",
       "      <td>33</td>\n",
       "      <td>27</td>\n",
       "      <td>38,6259</td>\n",
       "      <td>1,2145</td>\n",
       "      <td>27,9481</td>\n",
       "      <td>1,0780</td>\n",
       "      <td>1,1121</td>\n",
       "      <td>2</td>\n",
       "      <td>NaN</td>\n",
       "    </tr>\n",
       "    <tr>\n",
       "      <th>10</th>\n",
       "      <td>1145</td>\n",
       "      <td>2017</td>\n",
       "      <td>702</td>\n",
       "      <td>MATEMÁTICA (LICENCIATURA)</td>\n",
       "      <td>568</td>\n",
       "      <td>UNIVERSIDADE ESTADUAL DO MARANHÃO</td>\n",
       "      <td>UEMA</td>\n",
       "      <td>Universidade</td>\n",
       "      <td>Pública Estadual</td>\n",
       "      <td>81812</td>\n",
       "      <td>...</td>\n",
       "      <td>MA</td>\n",
       "      <td>27</td>\n",
       "      <td>26</td>\n",
       "      <td>52,1885</td>\n",
       "      <td>2,7971</td>\n",
       "      <td>27,3731</td>\n",
       "      <td>1,0126</td>\n",
       "      <td>1,4588</td>\n",
       "      <td>2</td>\n",
       "      <td>NaN</td>\n",
       "    </tr>\n",
       "  </tbody>\n",
       "</table>\n",
       "<p>5 rows × 23 columns</p>\n",
       "</div>"
      ],
      "text/plain": [
       "    index   Ano  Código da Área          Área de Avaliação  Código da IES  \\\n",
       "0     150  2017              21    ARQUITETURA E URBANISMO            568   \n",
       "7     963  2017             701   MATEMÁTICA (BACHARELADO)            548   \n",
       "8    1140  2017             702  MATEMÁTICA (LICENCIATURA)            548   \n",
       "9    1144  2017             702  MATEMÁTICA (LICENCIATURA)            568   \n",
       "10   1145  2017             702  MATEMÁTICA (LICENCIATURA)            568   \n",
       "\n",
       "                          Nome da IES Sigla da IES Organização Acadêmica  \\\n",
       "0   UNIVERSIDADE ESTADUAL DO MARANHÃO         UEMA          Universidade   \n",
       "7    UNIVERSIDADE FEDERAL DO MARANHÃO         UFMA          Universidade   \n",
       "8    UNIVERSIDADE FEDERAL DO MARANHÃO         UFMA          Universidade   \n",
       "9   UNIVERSIDADE ESTADUAL DO MARANHÃO         UEMA          Universidade   \n",
       "10  UNIVERSIDADE ESTADUAL DO MARANHÃO         UEMA          Universidade   \n",
       "\n",
       "   Categoria Administrativa  Código do Curso  ... Sigla da UF  \\\n",
       "0          Pública Estadual            11891  ...          MA   \n",
       "7           Pública Federal           311439  ...          MA   \n",
       "8           Pública Federal            11439  ...          MA   \n",
       "9          Pública Estadual            81423  ...          MA   \n",
       "10         Pública Estadual            81812  ...          MA   \n",
       "\n",
       "    Nº de Concluintes Inscritos Nº  de Concluintes Participantes  \\\n",
       "0                           107                              106   \n",
       "7                             2                                2   \n",
       "8                            12                               12   \n",
       "9                            33                               27   \n",
       "10                           27                               26   \n",
       "\n",
       "   Nota Bruta - FG  Nota Padronizada - FG  Nota Bruta - CE  \\\n",
       "0          59,4226                 3,1290          56,1264   \n",
       "7          43,5500                 1,5049          44,1500   \n",
       "8          50,8500                 2,6409          35,1750   \n",
       "9          38,6259                 1,2145          27,9481   \n",
       "10         52,1885                 2,7971          27,3731   \n",
       "\n",
       "   Nota Padronizada - CE Conceito Enade (Contínuo) Conceito Enade (Faixa)  \\\n",
       "0                 3,5515                    3,4458                      4   \n",
       "7                 1,8033                    1,7287                      2   \n",
       "8                 1,8997                    2,0850                      3   \n",
       "9                 1,0780                    1,1121                      2   \n",
       "10                1,0126                    1,4588                      2   \n",
       "\n",
       "   Observação  \n",
       "0         NaN  \n",
       "7         NaN  \n",
       "8         NaN  \n",
       "9         NaN  \n",
       "10        NaN  \n",
       "\n",
       "[5 rows x 23 columns]"
      ]
     },
     "execution_count": 9,
     "metadata": {},
     "output_type": "execute_result"
    }
   ],
   "source": [
    "enade_nordeste_publicas = enade_nordeste[enade_nordeste['Categoria Administrativa'].str.contains(\n",
    "    'Pública', case=False, regex=True)]\n",
    " \n",
    "enade_nordeste_publicas.head()"
   ]
  },
  {
   "cell_type": "code",
   "execution_count": 10,
   "metadata": {},
   "outputs": [
    {
     "data": {
      "text/plain": [
       "(1285, 23)"
      ]
     },
     "execution_count": 10,
     "metadata": {},
     "output_type": "execute_result"
    }
   ],
   "source": [
    "enade_nordeste_publicas.shape"
   ]
  },
  {
   "cell_type": "code",
   "execution_count": 11,
   "metadata": {},
   "outputs": [],
   "source": [
    "maior_conceito = enade_nordeste_publicas[enade_nordeste_publicas['Conceito Enade (Faixa)'] == '5']"
   ]
  },
  {
   "cell_type": "code",
   "execution_count": 12,
   "metadata": {},
   "outputs": [
    {
     "data": {
      "text/plain": [
       "(70, 23)"
      ]
     },
     "execution_count": 12,
     "metadata": {},
     "output_type": "execute_result"
    }
   ],
   "source": [
    "maior_conceito.shape"
   ]
  },
  {
   "cell_type": "code",
   "execution_count": 13,
   "metadata": {},
   "outputs": [],
   "source": [
    "menor_conceito = enade_nordeste_publicas[enade_nordeste_publicas['Conceito Enade (Faixa)'] == '1']"
   ]
  },
  {
   "cell_type": "code",
   "execution_count": 14,
   "metadata": {},
   "outputs": [
    {
     "data": {
      "text/plain": [
       "(71, 23)"
      ]
     },
     "execution_count": 14,
     "metadata": {},
     "output_type": "execute_result"
    }
   ],
   "source": [
    "menor_conceito.shape"
   ]
  },
  {
   "cell_type": "code",
   "execution_count": 16,
   "metadata": {
    "scrolled": true
   },
   "outputs": [
    {
     "data": {
      "text/html": [
       "<div>\n",
       "<style scoped>\n",
       "    .dataframe tbody tr th:only-of-type {\n",
       "        vertical-align: middle;\n",
       "    }\n",
       "\n",
       "    .dataframe tbody tr th {\n",
       "        vertical-align: top;\n",
       "    }\n",
       "\n",
       "    .dataframe thead th {\n",
       "        text-align: right;\n",
       "    }\n",
       "</style>\n",
       "<table border=\"1\" class=\"dataframe\">\n",
       "  <thead>\n",
       "    <tr style=\"text-align: right;\">\n",
       "      <th></th>\n",
       "      <th>NU_ANO</th>\n",
       "      <th>CO_IES</th>\n",
       "      <th>CO_CATEGAD</th>\n",
       "      <th>CO_ORGACAD</th>\n",
       "      <th>CO_GRUPO</th>\n",
       "      <th>CO_CURSO</th>\n",
       "      <th>CO_MODALIDADE</th>\n",
       "      <th>CO_MUNIC_CURSO</th>\n",
       "      <th>CO_UF_CURSO</th>\n",
       "      <th>CO_REGIAO_CURSO</th>\n",
       "      <th>...</th>\n",
       "      <th>Sigla da UF</th>\n",
       "      <th>Nº de Concluintes Inscritos</th>\n",
       "      <th>Nº  de Concluintes Participantes</th>\n",
       "      <th>Nota Bruta - FG</th>\n",
       "      <th>Nota Padronizada - FG</th>\n",
       "      <th>Nota Bruta - CE</th>\n",
       "      <th>Nota Padronizada - CE</th>\n",
       "      <th>Conceito Enade (Contínuo)</th>\n",
       "      <th>Conceito Enade (Faixa)</th>\n",
       "      <th>Observação</th>\n",
       "    </tr>\n",
       "  </thead>\n",
       "  <tbody>\n",
       "    <tr>\n",
       "      <th>0</th>\n",
       "      <td>2017</td>\n",
       "      <td>3</td>\n",
       "      <td>1</td>\n",
       "      <td>10028</td>\n",
       "      <td>6008</td>\n",
       "      <td>299</td>\n",
       "      <td>1</td>\n",
       "      <td>2806701</td>\n",
       "      <td>28</td>\n",
       "      <td>2</td>\n",
       "      <td>...</td>\n",
       "      <td>SE</td>\n",
       "      <td>6</td>\n",
       "      <td>6</td>\n",
       "      <td>67,6000</td>\n",
       "      <td>3,6737</td>\n",
       "      <td>47,3500</td>\n",
       "      <td>4,1781</td>\n",
       "      <td>4,0520</td>\n",
       "      <td>5</td>\n",
       "      <td>NaN</td>\n",
       "    </tr>\n",
       "    <tr>\n",
       "      <th>1</th>\n",
       "      <td>2017</td>\n",
       "      <td>3</td>\n",
       "      <td>1</td>\n",
       "      <td>10028</td>\n",
       "      <td>6008</td>\n",
       "      <td>299</td>\n",
       "      <td>1</td>\n",
       "      <td>2806701</td>\n",
       "      <td>28</td>\n",
       "      <td>2</td>\n",
       "      <td>...</td>\n",
       "      <td>SE</td>\n",
       "      <td>6</td>\n",
       "      <td>6</td>\n",
       "      <td>67,6000</td>\n",
       "      <td>3,6737</td>\n",
       "      <td>47,3500</td>\n",
       "      <td>4,1781</td>\n",
       "      <td>4,0520</td>\n",
       "      <td>5</td>\n",
       "      <td>NaN</td>\n",
       "    </tr>\n",
       "    <tr>\n",
       "      <th>2</th>\n",
       "      <td>2017</td>\n",
       "      <td>3</td>\n",
       "      <td>1</td>\n",
       "      <td>10028</td>\n",
       "      <td>6008</td>\n",
       "      <td>299</td>\n",
       "      <td>1</td>\n",
       "      <td>2806701</td>\n",
       "      <td>28</td>\n",
       "      <td>2</td>\n",
       "      <td>...</td>\n",
       "      <td>SE</td>\n",
       "      <td>6</td>\n",
       "      <td>6</td>\n",
       "      <td>67,6000</td>\n",
       "      <td>3,6737</td>\n",
       "      <td>47,3500</td>\n",
       "      <td>4,1781</td>\n",
       "      <td>4,0520</td>\n",
       "      <td>5</td>\n",
       "      <td>NaN</td>\n",
       "    </tr>\n",
       "    <tr>\n",
       "      <th>3</th>\n",
       "      <td>2017</td>\n",
       "      <td>3</td>\n",
       "      <td>1</td>\n",
       "      <td>10028</td>\n",
       "      <td>6008</td>\n",
       "      <td>299</td>\n",
       "      <td>1</td>\n",
       "      <td>2806701</td>\n",
       "      <td>28</td>\n",
       "      <td>2</td>\n",
       "      <td>...</td>\n",
       "      <td>SE</td>\n",
       "      <td>6</td>\n",
       "      <td>6</td>\n",
       "      <td>67,6000</td>\n",
       "      <td>3,6737</td>\n",
       "      <td>47,3500</td>\n",
       "      <td>4,1781</td>\n",
       "      <td>4,0520</td>\n",
       "      <td>5</td>\n",
       "      <td>NaN</td>\n",
       "    </tr>\n",
       "    <tr>\n",
       "      <th>4</th>\n",
       "      <td>2017</td>\n",
       "      <td>3</td>\n",
       "      <td>1</td>\n",
       "      <td>10028</td>\n",
       "      <td>6008</td>\n",
       "      <td>299</td>\n",
       "      <td>1</td>\n",
       "      <td>2806701</td>\n",
       "      <td>28</td>\n",
       "      <td>2</td>\n",
       "      <td>...</td>\n",
       "      <td>SE</td>\n",
       "      <td>6</td>\n",
       "      <td>6</td>\n",
       "      <td>67,6000</td>\n",
       "      <td>3,6737</td>\n",
       "      <td>47,3500</td>\n",
       "      <td>4,1781</td>\n",
       "      <td>4,0520</td>\n",
       "      <td>5</td>\n",
       "      <td>NaN</td>\n",
       "    </tr>\n",
       "  </tbody>\n",
       "</table>\n",
       "<p>5 rows × 172 columns</p>\n",
       "</div>"
      ],
      "text/plain": [
       "   NU_ANO  CO_IES  CO_CATEGAD  CO_ORGACAD  CO_GRUPO  CO_CURSO  CO_MODALIDADE  \\\n",
       "0    2017       3           1       10028      6008       299              1   \n",
       "1    2017       3           1       10028      6008       299              1   \n",
       "2    2017       3           1       10028      6008       299              1   \n",
       "3    2017       3           1       10028      6008       299              1   \n",
       "4    2017       3           1       10028      6008       299              1   \n",
       "\n",
       "   CO_MUNIC_CURSO  CO_UF_CURSO  CO_REGIAO_CURSO  ...  Sigla da UF  \\\n",
       "0         2806701           28                2  ...           SE   \n",
       "1         2806701           28                2  ...           SE   \n",
       "2         2806701           28                2  ...           SE   \n",
       "3         2806701           28                2  ...           SE   \n",
       "4         2806701           28                2  ...           SE   \n",
       "\n",
       "  Nº de Concluintes Inscritos  Nº  de Concluintes Participantes  \\\n",
       "0                           6                                 6   \n",
       "1                           6                                 6   \n",
       "2                           6                                 6   \n",
       "3                           6                                 6   \n",
       "4                           6                                 6   \n",
       "\n",
       "   Nota Bruta - FG  Nota Padronizada - FG  Nota Bruta - CE  \\\n",
       "0          67,6000                 3,6737          47,3500   \n",
       "1          67,6000                 3,6737          47,3500   \n",
       "2          67,6000                 3,6737          47,3500   \n",
       "3          67,6000                 3,6737          47,3500   \n",
       "4          67,6000                 3,6737          47,3500   \n",
       "\n",
       "   Nota Padronizada - CE  Conceito Enade (Contínuo)  Conceito Enade (Faixa)  \\\n",
       "0                 4,1781                     4,0520                       5   \n",
       "1                 4,1781                     4,0520                       5   \n",
       "2                 4,1781                     4,0520                       5   \n",
       "3                 4,1781                     4,0520                       5   \n",
       "4                 4,1781                     4,0520                       5   \n",
       "\n",
       "   Observação  \n",
       "0         NaN  \n",
       "1         NaN  \n",
       "2         NaN  \n",
       "3         NaN  \n",
       "4         NaN  \n",
       "\n",
       "[5 rows x 172 columns]"
      ]
     },
     "execution_count": 16,
     "metadata": {},
     "output_type": "execute_result"
    }
   ],
   "source": [
    "maior_conceito.rename(columns={'Código do Curso':'CO_CURSO'}, inplace=True)\n",
    " \n",
    "enade_maior = pd.merge(enade, maior_conceito, on='CO_CURSO')                  \n",
    " \n",
    "enade_maior.head()"
   ]
  },
  {
   "cell_type": "code",
   "execution_count": 17,
   "metadata": {},
   "outputs": [
    {
     "data": {
      "text/plain": [
       "(3156, 172)"
      ]
     },
     "execution_count": 17,
     "metadata": {},
     "output_type": "execute_result"
    }
   ],
   "source": [
    "enade_maior.shape"
   ]
  },
  {
   "cell_type": "code",
   "execution_count": 18,
   "metadata": {},
   "outputs": [
    {
     "data": {
      "text/html": [
       "<div>\n",
       "<style scoped>\n",
       "    .dataframe tbody tr th:only-of-type {\n",
       "        vertical-align: middle;\n",
       "    }\n",
       "\n",
       "    .dataframe tbody tr th {\n",
       "        vertical-align: top;\n",
       "    }\n",
       "\n",
       "    .dataframe thead th {\n",
       "        text-align: right;\n",
       "    }\n",
       "</style>\n",
       "<table border=\"1\" class=\"dataframe\">\n",
       "  <thead>\n",
       "    <tr style=\"text-align: right;\">\n",
       "      <th></th>\n",
       "      <th>NU_ANO</th>\n",
       "      <th>CO_IES</th>\n",
       "      <th>CO_CATEGAD</th>\n",
       "      <th>CO_ORGACAD</th>\n",
       "      <th>CO_GRUPO</th>\n",
       "      <th>CO_CURSO</th>\n",
       "      <th>CO_MODALIDADE</th>\n",
       "      <th>CO_MUNIC_CURSO</th>\n",
       "      <th>CO_UF_CURSO</th>\n",
       "      <th>CO_REGIAO_CURSO</th>\n",
       "      <th>...</th>\n",
       "      <th>Sigla da UF</th>\n",
       "      <th>Nº de Concluintes Inscritos</th>\n",
       "      <th>Nº  de Concluintes Participantes</th>\n",
       "      <th>Nota Bruta - FG</th>\n",
       "      <th>Nota Padronizada - FG</th>\n",
       "      <th>Nota Bruta - CE</th>\n",
       "      <th>Nota Padronizada - CE</th>\n",
       "      <th>Conceito Enade (Contínuo)</th>\n",
       "      <th>Conceito Enade (Faixa)</th>\n",
       "      <th>Observação</th>\n",
       "    </tr>\n",
       "  </thead>\n",
       "  <tbody>\n",
       "    <tr>\n",
       "      <th>0</th>\n",
       "      <td>2017</td>\n",
       "      <td>71</td>\n",
       "      <td>2</td>\n",
       "      <td>10028</td>\n",
       "      <td>5402</td>\n",
       "      <td>3567</td>\n",
       "      <td>1</td>\n",
       "      <td>2408003</td>\n",
       "      <td>24</td>\n",
       "      <td>2</td>\n",
       "      <td>...</td>\n",
       "      <td>RN</td>\n",
       "      <td>10</td>\n",
       "      <td>10</td>\n",
       "      <td>33,1800</td>\n",
       "      <td>0,0000</td>\n",
       "      <td>32,8600</td>\n",
       "      <td>0,3589</td>\n",
       "      <td>0,2691</td>\n",
       "      <td>1</td>\n",
       "      <td>NaN</td>\n",
       "    </tr>\n",
       "    <tr>\n",
       "      <th>1</th>\n",
       "      <td>2017</td>\n",
       "      <td>71</td>\n",
       "      <td>2</td>\n",
       "      <td>10028</td>\n",
       "      <td>5402</td>\n",
       "      <td>3567</td>\n",
       "      <td>1</td>\n",
       "      <td>2408003</td>\n",
       "      <td>24</td>\n",
       "      <td>2</td>\n",
       "      <td>...</td>\n",
       "      <td>RN</td>\n",
       "      <td>10</td>\n",
       "      <td>10</td>\n",
       "      <td>33,1800</td>\n",
       "      <td>0,0000</td>\n",
       "      <td>32,8600</td>\n",
       "      <td>0,3589</td>\n",
       "      <td>0,2691</td>\n",
       "      <td>1</td>\n",
       "      <td>NaN</td>\n",
       "    </tr>\n",
       "    <tr>\n",
       "      <th>2</th>\n",
       "      <td>2017</td>\n",
       "      <td>71</td>\n",
       "      <td>2</td>\n",
       "      <td>10028</td>\n",
       "      <td>5402</td>\n",
       "      <td>3567</td>\n",
       "      <td>1</td>\n",
       "      <td>2408003</td>\n",
       "      <td>24</td>\n",
       "      <td>2</td>\n",
       "      <td>...</td>\n",
       "      <td>RN</td>\n",
       "      <td>10</td>\n",
       "      <td>10</td>\n",
       "      <td>33,1800</td>\n",
       "      <td>0,0000</td>\n",
       "      <td>32,8600</td>\n",
       "      <td>0,3589</td>\n",
       "      <td>0,2691</td>\n",
       "      <td>1</td>\n",
       "      <td>NaN</td>\n",
       "    </tr>\n",
       "    <tr>\n",
       "      <th>3</th>\n",
       "      <td>2017</td>\n",
       "      <td>71</td>\n",
       "      <td>2</td>\n",
       "      <td>10028</td>\n",
       "      <td>5402</td>\n",
       "      <td>3567</td>\n",
       "      <td>1</td>\n",
       "      <td>2408003</td>\n",
       "      <td>24</td>\n",
       "      <td>2</td>\n",
       "      <td>...</td>\n",
       "      <td>RN</td>\n",
       "      <td>10</td>\n",
       "      <td>10</td>\n",
       "      <td>33,1800</td>\n",
       "      <td>0,0000</td>\n",
       "      <td>32,8600</td>\n",
       "      <td>0,3589</td>\n",
       "      <td>0,2691</td>\n",
       "      <td>1</td>\n",
       "      <td>NaN</td>\n",
       "    </tr>\n",
       "    <tr>\n",
       "      <th>4</th>\n",
       "      <td>2017</td>\n",
       "      <td>71</td>\n",
       "      <td>2</td>\n",
       "      <td>10028</td>\n",
       "      <td>5402</td>\n",
       "      <td>3567</td>\n",
       "      <td>1</td>\n",
       "      <td>2408003</td>\n",
       "      <td>24</td>\n",
       "      <td>2</td>\n",
       "      <td>...</td>\n",
       "      <td>RN</td>\n",
       "      <td>10</td>\n",
       "      <td>10</td>\n",
       "      <td>33,1800</td>\n",
       "      <td>0,0000</td>\n",
       "      <td>32,8600</td>\n",
       "      <td>0,3589</td>\n",
       "      <td>0,2691</td>\n",
       "      <td>1</td>\n",
       "      <td>NaN</td>\n",
       "    </tr>\n",
       "  </tbody>\n",
       "</table>\n",
       "<p>5 rows × 172 columns</p>\n",
       "</div>"
      ],
      "text/plain": [
       "   NU_ANO  CO_IES  CO_CATEGAD  CO_ORGACAD  CO_GRUPO  CO_CURSO  CO_MODALIDADE  \\\n",
       "0    2017      71           2       10028      5402      3567              1   \n",
       "1    2017      71           2       10028      5402      3567              1   \n",
       "2    2017      71           2       10028      5402      3567              1   \n",
       "3    2017      71           2       10028      5402      3567              1   \n",
       "4    2017      71           2       10028      5402      3567              1   \n",
       "\n",
       "   CO_MUNIC_CURSO  CO_UF_CURSO  CO_REGIAO_CURSO  ...  Sigla da UF  \\\n",
       "0         2408003           24                2  ...           RN   \n",
       "1         2408003           24                2  ...           RN   \n",
       "2         2408003           24                2  ...           RN   \n",
       "3         2408003           24                2  ...           RN   \n",
       "4         2408003           24                2  ...           RN   \n",
       "\n",
       "  Nº de Concluintes Inscritos  Nº  de Concluintes Participantes  \\\n",
       "0                          10                                10   \n",
       "1                          10                                10   \n",
       "2                          10                                10   \n",
       "3                          10                                10   \n",
       "4                          10                                10   \n",
       "\n",
       "   Nota Bruta - FG  Nota Padronizada - FG  Nota Bruta - CE  \\\n",
       "0          33,1800                 0,0000          32,8600   \n",
       "1          33,1800                 0,0000          32,8600   \n",
       "2          33,1800                 0,0000          32,8600   \n",
       "3          33,1800                 0,0000          32,8600   \n",
       "4          33,1800                 0,0000          32,8600   \n",
       "\n",
       "   Nota Padronizada - CE  Conceito Enade (Contínuo)  Conceito Enade (Faixa)  \\\n",
       "0                 0,3589                     0,2691                       1   \n",
       "1                 0,3589                     0,2691                       1   \n",
       "2                 0,3589                     0,2691                       1   \n",
       "3                 0,3589                     0,2691                       1   \n",
       "4                 0,3589                     0,2691                       1   \n",
       "\n",
       "   Observação  \n",
       "0         NaN  \n",
       "1         NaN  \n",
       "2         NaN  \n",
       "3         NaN  \n",
       "4         NaN  \n",
       "\n",
       "[5 rows x 172 columns]"
      ]
     },
     "execution_count": 18,
     "metadata": {},
     "output_type": "execute_result"
    }
   ],
   "source": [
    "menor_conceito.rename(columns={'Código do Curso':'CO_CURSO'}, inplace=True)\n",
    " \n",
    "enade_menor = pd.merge(enade, menor_conceito, on='CO_CURSO')                  \n",
    " \n",
    "enade_menor.head()"
   ]
  },
  {
   "cell_type": "code",
   "execution_count": 19,
   "metadata": {},
   "outputs": [
    {
     "data": {
      "text/plain": [
       "(2767, 172)"
      ]
     },
     "execution_count": 19,
     "metadata": {},
     "output_type": "execute_result"
    }
   ],
   "source": [
    "enade_menor.shape"
   ]
  },
  {
   "cell_type": "code",
   "execution_count": 23,
   "metadata": {},
   "outputs": [],
   "source": [
    "# Bibliotecas necessárias para plotar as vizualizações\n",
    "import matplotlib.pyplot as plt\n",
    "import seaborn as sns\n",
    "sns.set_style('whitegrid')\n",
    "# Plotar os gráficos direto no jupyter notebook\n",
    "%matplotlib inline\n",
    "# Definir o estilo dos gráficos semelhantes ao ggplot\n",
    "plt.style.use('seaborn-whitegrid')\n",
    "#plt.style.use('ggplot')"
   ]
  },
  {
   "cell_type": "code",
   "execution_count": 176,
   "metadata": {},
   "outputs": [
    {
     "data": {
      "text/plain": [
       "(array([0, 1, 2, 3, 4]), <a list of 5 Text xticklabel objects>)"
      ]
     },
     "execution_count": 176,
     "metadata": {},
     "output_type": "execute_result"
    },
    {
     "data": {
      "image/png": "[encoded data removed]",
      "text/plain": [
       "<Figure size 432x288 with 1 Axes>"
      ]
     },
     "metadata": {},
     "output_type": "display_data"
    }
   ],
   "source": [
    "enade_menor['QE_I01'].value_counts().sort_index(ascending=True).plot(kind='bar', title='Estado Civil - Menor nota',\n",
    "                                          colormap='Accent')\n",
    "plt.xticks(rotation=0)"
   ]
  },
  {
   "cell_type": "code",
   "execution_count": 75,
   "metadata": {},
   "outputs": [
    {
     "data": {
      "text/plain": [
       "(array([0, 1, 2, 3, 4]), <a list of 5 Text xticklabel objects>)"
      ]
     },
     "execution_count": 75,
     "metadata": {},
     "output_type": "execute_result"
    },
    {
     "data": {
      "image/png": "[encoded data removed]",
      "text/plain": [
       "<Figure size 432x288 with 1 Axes>"
      ]
     },
     "metadata": {},
     "output_type": "display_data"
    }
   ],
   "source": [
    "enade_maior['QE_I01'].value_counts().sort_index(ascending=True).plot(kind='bar', title='Estado Civil - Maior Nota')\n",
    "plt.xticks(rotation=0)"
   ]
  },
  {
   "cell_type": "code",
   "execution_count": 175,
   "metadata": {},
   "outputs": [
    {
     "data": {
      "text/plain": [
       "(array([0, 1, 2, 3, 4, 5]), <a list of 6 Text xticklabel objects>)"
      ]
     },
     "execution_count": 175,
     "metadata": {},
     "output_type": "execute_result"
    },
    {
     "data": {
      "image/png": "[encoded data removed]",
      "text/plain": [
       "<Figure size 432x288 with 1 Axes>"
      ]
     },
     "metadata": {},
     "output_type": "display_data"
    }
   ],
   "source": [
    "enade_menor['QE_I02'].value_counts().sort_index(ascending=True).plot(kind='bar', title='Cor/Raça - Menor nota', colormap='Accent')\n",
    "\n",
    "#plt.legend(title=\"Estado Cívil\",loc=\"center right\", bbox_to_anchor=(1, 0, 0.5, 1))\n",
    "plt.xticks(rotation=0)"
   ]
  },
  {
   "cell_type": "code",
   "execution_count": 73,
   "metadata": {},
   "outputs": [
    {
     "data": {
      "text/plain": [
       "(array([0, 1, 2, 3, 4, 5]), <a list of 6 Text xticklabel objects>)"
      ]
     },
     "execution_count": 73,
     "metadata": {},
     "output_type": "execute_result"
    },
    {
     "data": {
      "image/png": "[encoded data removed]",
      "text/plain": [
       "<Figure size 432x288 with 1 Axes>"
      ]
     },
     "metadata": {},
     "output_type": "display_data"
    }
   ],
   "source": [
    "enade_maior['QE_I02'].value_counts().sort_index(ascending=True).plot(kind='bar', title='Cor/Raça - Maior nota')\n",
    "plt.xticks(rotation=0)\n"
   ]
  },
  {
   "cell_type": "code",
   "execution_count": 174,
   "metadata": {
    "scrolled": true
   },
   "outputs": [
    {
     "data": {
      "text/plain": [
       "(array([0, 1, 2, 3, 4, 5]), <a list of 6 Text xticklabel objects>)"
      ]
     },
     "execution_count": 174,
     "metadata": {},
     "output_type": "execute_result"
    },
    {
     "data": {
      "image/png": "[encoded data removed]",
      "text/plain": [
       "<Figure size 432x288 with 1 Axes>"
      ]
     },
     "metadata": {},
     "output_type": "display_data"
    }
   ],
   "source": [
    "enade_menor['QE_I04'].value_counts().sort_index(ascending=True).plot(kind='bar', title='Escolaridade Pai - Menor nota', colormap='Accent')\n",
    "plt.xticks(rotation=0)"
   ]
  },
  {
   "cell_type": "code",
   "execution_count": 93,
   "metadata": {},
   "outputs": [
    {
     "data": {
      "text/plain": [
       "(array([0, 1, 2, 3, 4, 5]), <a list of 6 Text xticklabel objects>)"
      ]
     },
     "execution_count": 93,
     "metadata": {},
     "output_type": "execute_result"
    },
    {
     "data": {
      "image/png": "[encoded data removed]",
      "text/plain": [
       "<Figure size 432x288 with 1 Axes>"
      ]
     },
     "metadata": {},
     "output_type": "display_data"
    }
   ],
   "source": [
    "enade_maior['QE_I04'].value_counts().sort_index(ascending=True).plot(\n",
    "    kind='bar', \n",
    "    title='Escolaridade Pai - Maior nota')\n",
    "plt.xticks(rotation=0)"
   ]
  },
  {
   "cell_type": "code",
   "execution_count": 173,
   "metadata": {},
   "outputs": [
    {
     "data": {
      "text/plain": [
       "(array([0, 1, 2, 3, 4, 5]), <a list of 6 Text xticklabel objects>)"
      ]
     },
     "execution_count": 173,
     "metadata": {},
     "output_type": "execute_result"
    },
    {
     "data": {
      "image/png": "[encoded data removed]",
      "text/plain": [
       "<Figure size 432x288 with 1 Axes>"
      ]
     },
     "metadata": {},
     "output_type": "display_data"
    }
   ],
   "source": [
    "enade_menor['QE_I05'].value_counts().sort_index(ascending=True).plot(\n",
    "    kind='bar', \n",
    "    title='Escolaridade Mãe - Menor nota',\n",
    "    colormap='Accent')\n",
    "\n",
    "plt.xticks(rotation=0)"
   ]
  },
  {
   "cell_type": "code",
   "execution_count": 97,
   "metadata": {},
   "outputs": [
    {
     "data": {
      "text/plain": [
       "(array([0, 1, 2, 3, 4, 5]), <a list of 6 Text xticklabel objects>)"
      ]
     },
     "execution_count": 97,
     "metadata": {},
     "output_type": "execute_result"
    },
    {
     "data": {
      "image/png": "[encoded data removed]",
      "text/plain": [
       "<Figure size 432x288 with 1 Axes>"
      ]
     },
     "metadata": {},
     "output_type": "display_data"
    }
   ],
   "source": [
    "enade_maior['QE_I05'].value_counts().sort_index(ascending=True).plot(\n",
    "    kind='bar', \n",
    "    title='Escolaridade Mãe - Maior nota')\n",
    "\n",
    "plt.xticks(rotation=0)\n"
   ]
  },
  {
   "cell_type": "code",
   "execution_count": 172,
   "metadata": {},
   "outputs": [
    {
     "data": {
      "text/plain": [
       "(array([0, 1, 2, 3, 4, 5]), <a list of 6 Text xticklabel objects>)"
      ]
     },
     "execution_count": 172,
     "metadata": {},
     "output_type": "execute_result"
    },
    {
     "data": {
      "image/png": "[encoded data removed]",
      "text/plain": [
       "<Figure size 432x288 with 1 Axes>"
      ]
     },
     "metadata": {},
     "output_type": "display_data"
    }
   ],
   "source": [
    "enade_menor['QE_I06'].value_counts().sort_index(ascending=True).plot(\n",
    "    kind='bar', \n",
    "    title='Onde/Com quem mora - Menor nota',\n",
    "    colormap='Accent')\n",
    "\n",
    "plt.xticks(rotation=0)"
   ]
  },
  {
   "cell_type": "code",
   "execution_count": 99,
   "metadata": {},
   "outputs": [
    {
     "data": {
      "text/plain": [
       "(array([0, 1, 2, 3, 4, 5]), <a list of 6 Text xticklabel objects>)"
      ]
     },
     "execution_count": 99,
     "metadata": {},
     "output_type": "execute_result"
    },
    {
     "data": {
      "image/png": "[encoded data removed]",
      "text/plain": [
       "<Figure size 432x288 with 1 Axes>"
      ]
     },
     "metadata": {},
     "output_type": "display_data"
    }
   ],
   "source": [
    "enade_maior['QE_I06'].value_counts().sort_index(ascending=True).plot(\n",
    "    kind='bar', \n",
    "    title='Onde/Com quem mora - Maior nota')\n",
    "\n",
    "plt.xticks(rotation=0)"
   ]
  },
  {
   "cell_type": "code",
   "execution_count": 171,
   "metadata": {},
   "outputs": [
    {
     "data": {
      "text/plain": [
       "(array([0, 1, 2, 3, 4, 5, 6, 7]), <a list of 8 Text xticklabel objects>)"
      ]
     },
     "execution_count": 171,
     "metadata": {},
     "output_type": "execute_result"
    },
    {
     "data": {
      "image/png": "[encoded data removed]",
      "text/plain": [
       "<Figure size 432x288 with 1 Axes>"
      ]
     },
     "metadata": {},
     "output_type": "display_data"
    }
   ],
   "source": [
    "enade_menor['QE_I07'].value_counts().sort_index(ascending=True).plot(\n",
    "    kind='bar', \n",
    "    title='Mora com quantas pessoas - Menor nota',\n",
    "    colormap='Accent')\n",
    "\n",
    "plt.xticks(rotation=0)"
   ]
  },
  {
   "cell_type": "code",
   "execution_count": 101,
   "metadata": {},
   "outputs": [
    {
     "data": {
      "text/plain": [
       "(array([0, 1, 2, 3, 4, 5, 6, 7]), <a list of 8 Text xticklabel objects>)"
      ]
     },
     "execution_count": 101,
     "metadata": {},
     "output_type": "execute_result"
    },
    {
     "data": {
      "image/png": "[encoded data removed]",
      "text/plain": [
       "<Figure size 432x288 with 1 Axes>"
      ]
     },
     "metadata": {},
     "output_type": "display_data"
    }
   ],
   "source": [
    "enade_maior['QE_I07'].value_counts().sort_index(ascending=True).plot(\n",
    "    kind='bar', \n",
    "    title='Mora com quantas pessoas - Menor nota')\n",
    "\n",
    "plt.xticks(rotation=0)"
   ]
  },
  {
   "cell_type": "code",
   "execution_count": 170,
   "metadata": {},
   "outputs": [
    {
     "data": {
      "text/plain": [
       "(array([0, 1, 2, 3, 4, 5, 6]), <a list of 7 Text xticklabel objects>)"
      ]
     },
     "execution_count": 170,
     "metadata": {},
     "output_type": "execute_result"
    },
    {
     "data": {
      "image/png": "[encoded data removed]",
      "text/plain": [
       "<Figure size 432x288 with 1 Axes>"
      ]
     },
     "metadata": {},
     "output_type": "display_data"
    }
   ],
   "source": [
    "enade_menor['QE_I08'].value_counts().sort_index(ascending=True).plot(\n",
    "    kind='bar', \n",
    "    title='Renda familiar - Menor nota',\n",
    "    colormap='Accent')\n",
    "\n",
    "plt.xticks(rotation=0)"
   ]
  },
  {
   "cell_type": "code",
   "execution_count": 103,
   "metadata": {},
   "outputs": [
    {
     "data": {
      "text/plain": [
       "(array([0, 1, 2, 3, 4, 5, 6]), <a list of 7 Text xticklabel objects>)"
      ]
     },
     "execution_count": 103,
     "metadata": {},
     "output_type": "execute_result"
    },
    {
     "data": {
      "image/png": "[encoded data removed]",
      "text/plain": [
       "<Figure size 432x288 with 1 Axes>"
      ]
     },
     "metadata": {},
     "output_type": "display_data"
    }
   ],
   "source": [
    "enade_maior['QE_I08'].value_counts().sort_index(ascending=True).plot(\n",
    "    kind='bar', \n",
    "    title='Renda familiar - Maior nota')\n",
    "\n",
    "plt.xticks(rotation=0)"
   ]
  },
  {
   "cell_type": "code",
   "execution_count": 169,
   "metadata": {},
   "outputs": [
    {
     "data": {
      "text/plain": [
       "(array([0, 1, 2, 3, 4, 5]), <a list of 6 Text xticklabel objects>)"
      ]
     },
     "execution_count": 169,
     "metadata": {},
     "output_type": "execute_result"
    },
    {
     "data": {
      "image/png": "[encoded data removed]",
      "text/plain": [
       "<Figure size 432x288 with 1 Axes>"
      ]
     },
     "metadata": {},
     "output_type": "display_data"
    }
   ],
   "source": [
    "enade_menor['QE_I15'].value_counts().sort_index(ascending=True).plot(\n",
    "    kind='bar', \n",
    "    title='Usou cotas - Menor nota',\n",
    "    colormap='Accent')\n",
    "\n",
    "plt.xticks(rotation=0)"
   ]
  },
  {
   "cell_type": "code",
   "execution_count": 105,
   "metadata": {},
   "outputs": [
    {
     "data": {
      "text/plain": [
       "(array([0, 1, 2, 3, 4, 5]), <a list of 6 Text xticklabel objects>)"
      ]
     },
     "execution_count": 105,
     "metadata": {},
     "output_type": "execute_result"
    },
    {
     "data": {
      "image/png": "[encoded data removed]",
      "text/plain": [
       "<Figure size 432x288 with 1 Axes>"
      ]
     },
     "metadata": {},
     "output_type": "display_data"
    }
   ],
   "source": [
    "enade_maior['QE_I15'].value_counts().sort_index(ascending=True).plot(\n",
    "    kind='bar', \n",
    "    title='Usou cotas - Maior nota')\n",
    "\n",
    "plt.xticks(rotation=0)"
   ]
  },
  {
   "cell_type": "code",
   "execution_count": 168,
   "metadata": {},
   "outputs": [
    {
     "data": {
      "text/plain": [
       "(array([0, 1, 2, 3, 4]), <a list of 5 Text xticklabel objects>)"
      ]
     },
     "execution_count": 168,
     "metadata": {},
     "output_type": "execute_result"
    },
    {
     "data": {
      "image/png": "[encoded data removed]",
      "text/plain": [
       "<Figure size 432x288 with 1 Axes>"
      ]
     },
     "metadata": {},
     "output_type": "display_data"
    }
   ],
   "source": [
    "enade_menor['QE_I17'].value_counts().sort_index(ascending=True).plot(\n",
    "    kind='bar', \n",
    "    title='Tipo de escola - Menor nota',\n",
    "    colormap='Accent')\n",
    "\n",
    "plt.xticks(rotation=0)\n",
    "#, , Blues, Blues_r, BrBG, BrBG_r, BuGn, BuGn_r, BuPu, BuPu_r, CMRmap, CMRmap_r, Dark2, Dark2_r, GnBu, GnBu_r, Greens, Greens_r, Greys, Greys_r, OrRd, OrRd_r, Oranges, Oranges_r, PRGn, PRGn_r, Paired, Paired_r, Pastel1, Pastel1_r, Pastel2, Pastel2_r, PiYG, PiYG_r, PuBu, PuBuGn, PuBuGn_r, PuBu_r, PuOr, PuOr_r, PuRd, PuRd_r, Purples, Purples_r, RdBu, RdBu_r, RdGy, RdGy_r, RdPu, RdPu_r, RdYlBu, RdYlBu_r, RdYlGn, RdYlGn_r, Reds, Reds_r, Set1, Set1_r, Set2, Set2_r, Set3, Set3_r, Spectral, Spectral_r, Wistia, Wistia_r, YlGn, YlGnBu, YlGnBu_r, YlGn_r, YlOrBr, YlOrBr_r, YlOrRd, YlOrRd_r, afmhot, afmhot_r, autumn, autumn_r, binary, binary_r, bone, bone_r, brg, brg_r, bwr, bwr_r, cividis, cividis_r, cool, cool_r, coolwarm, coolwarm_r, copper, copper_r, cubehelix, cubehelix_r, flag, flag_r, gist_earth, gist_earth_r, gist_gray, gist_gray_r, gist_heat, gist_heat_r, gist_ncar, gist_ncar_r, gist_rainbow, gist_rainbow_r, gist_stern, gist_stern_r, gist_yarg, gist_yarg_r, gnuplot, gnuplot2, gnuplot2_r, gnuplot_r, gray, gray_r, hot, hot_r, hsv, hsv_r, icefire, icefire_r, inferno, inferno_r, jet, jet_r, magma, magma_r, mako, mako_r, nipy_spectral, nipy_spectral_r, ocean, ocean_r, pink, pink_r, plasma, plasma_r, prism, prism_r, rainbow, rainbow_r, rocket, rocket_r, seismic, seismic_r, spring, spring_r, summer, summer_r, tab10, tab10_r, tab20, tab20_r, tab20b, tab20b_r, tab20c, tab20c_r, terrain, terrain_r, twilight, twilight_r, twilight_shifted, twilight_shifted_r, viridis, viridis_r, vlag, vlag_r, winter, winter_r"
   ]
  },
  {
   "cell_type": "code",
   "execution_count": 107,
   "metadata": {},
   "outputs": [
    {
     "data": {
      "text/plain": [
       "(array([0, 1, 2, 3, 4, 5]), <a list of 6 Text xticklabel objects>)"
      ]
     },
     "execution_count": 107,
     "metadata": {},
     "output_type": "execute_result"
    },
    {
     "data": {
      "image/png": "[encoded data removed]",
      "text/plain": [
       "<Figure size 432x288 with 1 Axes>"
      ]
     },
     "metadata": {},
     "output_type": "display_data"
    }
   ],
   "source": [
    "enade_maior['QE_I17'].value_counts().sort_index(ascending=True).plot(\n",
    "    kind='bar', \n",
    "    title='Tipo de escola - Maior nota')\n",
    "\n",
    "plt.xticks(rotation=0)"
   ]
  },
  {
   "cell_type": "code",
   "execution_count": null,
   "metadata": {},
   "outputs": [],
   "source": [
    "\n"
   ]
  },
  {
   "cell_type": "code",
   "execution_count": null,
   "metadata": {},
   "outputs": [],
   "source": []
  },
  {
   "cell_type": "code",
   "execution_count": null,
   "metadata": {},
   "outputs": [],
   "source": []
  },
  {
   "cell_type": "code",
   "execution_count": null,
   "metadata": {},
   "outputs": [],
   "source": [
    "# Gerando a figura\n",
    "ax = sns.barplot(x='QE_I01', data=enade_menor, estimador=sum)\n",
    " \n",
    "# Definindo o título da figura\n",
    "ax.set_title('Estado Civil - Menor nota', fontsize=20)\n",
    " \n",
    "# Definindo o nome do eixo horizontal\n",
    "ax.set_xlabel('Estado Civil', fontsize=15)\n",
    " \n",
    "# Definindo o nome do eixo vertical\n",
    "ax.set_ylabel('Quantidade', fontsize=15)\n",
    " \n",
    "# Definindo a legenda manualmente\n",
    "l1 = mpatches.Patch(color='C0',label='Solteiro')\n",
    "l2 = mpatches.Patch(color='C1',label='Casado')\n",
    "l3 = mpatches.Patch(color='C2',label='Outro')\n",
    "l4 = mpatches.Patch(color='C3',label='Separado/divorciado')\n",
    "plt.legend(handles=[l1,l2,l3,l4], title='Estado civil', bbox_to_anchor=(1, 1))\n",
    " \n",
    "# Exibindo a figura sem mensagem de retorno\n",
    "plt.show()\n",
    " "
   ]
  },
  {
   "cell_type": "code",
   "execution_count": null,
   "metadata": {},
   "outputs": [],
   "source": [
    "# somar as respostas para cada questão dos alunos daquele curso e instituição (usar codigo curso)\n",
    "# plotar grafico\n",
    " \n",
    "# Definindo o tamanho da figura\n",
    "fig, ax = plt.subplots(figsize=(10,6))\n",
    " \n",
    "# Gerando a figura\n",
    "ax = sns.barplot('QE_I01', 'totalAlunos', data=enade_maior.sort_values(by='totalAlunos', ascending=False))\n",
    " \n",
    "# Título da Figura\n",
    "ax.set_title('Total de alunos das Universidades Federais \\ndo Nordeste em 2016', fontsize=20)\n",
    " \n",
    "# Definindo o nome do eixo horizontal\n",
    "ax.set_xlabel('Instituição', fontsize=15)\n",
    " \n",
    "# Definindo o nome do eixo vertical\n",
    "ax.set_ylabel('Total de alunos', fontsize=15)\n",
    " \n",
    "# Exibindo a figura sem mensagem de retorno\n",
    "plt.show()\n",
    " \n",
    " \n"
   ]
  },
  {
   "cell_type": "code",
   "execution_count": null,
   "metadata": {},
   "outputs": [],
   "source": [
    " \n",
    "# Estado Civil x Nota geral\n",
    " \n",
    "# Definindo o tamanho da figura\n",
    "fig, ax = plt.subplots(figsize=(6,6))\n",
    " \n",
    "# Ordenando as colunas\n",
    "order_q01 = pd.DataFrame(enade_maior.groupby('QE_I01')['NT_GER'].mean()).reset_index(\n",
    "        ).sort_values(by='NT_GER', ascending=False)['QE_I01'].values\n",
    " \n",
    "# Gerando a figura\n",
    "ax = sns.barplot(x='QE_I01',y='NT_GER', data=df, order=order_q01, ci=True)\n",
    " \n",
    "# Definindo o título da figura\n",
    "ax.set_title('Estado Civil vs Nota no Enade', fontsize=20)\n",
    " \n",
    "# Definindo o nome do eixo horizontal\n",
    "ax.set_xlabel('Estado Civil', fontsize=15)\n",
    " \n",
    "# Definindo o nome do eixo vertical\n",
    "ax.set_ylabel('Nota no Enade', fontsize=15)\n",
    " \n",
    "# Definindo a legenda manualmente\n",
    "l1 = mpatches.Patch(color='C0',label='Solteiro')\n",
    "l2 = mpatches.Patch(color='C1',label='Casado')\n",
    "l3 = mpatches.Patch(color='C2',label='Outro')\n",
    "l4 = mpatches.Patch(color='C3',label='Separado/divorciado')\n",
    "plt.legend(handles=[l1,l2,l3,l4], title='Estado civil', bbox_to_anchor=(1, 1))\n",
    " \n",
    "# Exibindo a figura sem mensagem de retorno\n",
    "plt.show()\n",
    " \n",
    " \n",
    " \n",
    "# Variável alvo NT_GER (Nota geral)\n",
    " \n",
    "# Definindo o tamanho da figura\n",
    "fig, ax = plt.subplots(figsize=(6,6))\n",
    " \n",
    "# Gerando a figura\n",
    "ax = sns.distplot(df['NT_GER'], kde=True)\n",
    " \n",
    "# Definindo o título da figura\n",
    "ax.set_title('Distribuição da Nota Geral - Enade 2017', fontsize=18)\n",
    " \n",
    "# Definindo o nome do eixo horizontal\n",
    "ax.set_xlabel('Nota Geral (0-100)', fontsize=15)\n",
    " \n",
    "# Exibindo a figura sem mensagem de retorno\n",
    "plt.show()"
   ]
  }
 ],
 "metadata": {
  "kernelspec": {
   "display_name": "Python 3",
   "language": "python",
   "name": "python3"
  },
  "language_info": {
   "codemirror_mode": {
    "name": "ipython",
    "version": 3
   },
   "file_extension": ".py",
   "mimetype": "text/x-python",
   "name": "python",
   "nbconvert_exporter": "python",
   "pygments_lexer": "ipython3",
   "version": "3.7.4"
  }
 },
 "nbformat": 4,
 "nbformat_minor": 2
}
